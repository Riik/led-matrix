{
 "cells": [
  {
   "cell_type": "code",
   "execution_count": 7,
   "id": "b8a4099d",
   "metadata": {},
   "outputs": [
    {
     "name": "stdout",
     "output_type": "stream",
     "text": [
      "Requirement already satisfied: numpy in /usr/local/Cellar/jupyterlab/3.3.0/libexec/lib/python3.9/site-packages (1.22.3)\n",
      "Collecting pillow\n",
      "  Using cached Pillow-9.0.1-cp39-cp39-macosx_10_10_x86_64.whl (3.0 MB)\n",
      "Installing collected packages: pillow\n",
      "Successfully installed pillow-9.0.1\n",
      "\u001b[33mWARNING: You are using pip version 21.3.1; however, version 22.0.4 is available.\n",
      "You should consider upgrading via the '/usr/local/Cellar/jupyterlab/3.3.0/libexec/bin/python3.9 -m pip install --upgrade pip' command.\u001b[0m\n",
      "Note: you may need to restart the kernel to use updated packages.\n"
     ]
    }
   ],
   "source": [
    "%pip install numpy pillow"
   ]
  },
  {
   "cell_type": "code",
   "execution_count": 8,
   "id": "413989b2",
   "metadata": {},
   "outputs": [],
   "source": [
    "#!/usr/bin/python3\n",
    "# font obtained from https://opengameart.org/content/dos-8x8-font\n",
    "spacing = 1\n",
    "grid_width = 16\n",
    "grid_height = 16\n",
    "import numpy as np\n",
    "\n",
    "from PIL import Image\n",
    "filepath = \"font.png\"\n",
    "im = Image.open(filepath, 'r')\n",
    "im_width, im_height = im.size\n",
    "assert im_width == grid_width*8 + (grid_width+1)\n",
    "assert im_height == grid_height*8 + (grid_height+1)\n",
    "is_white_pixel = lambda pixel: int(pixel == (255, 255, 255, 255))\n",
    "pixel_list = [is_white_pixel(p) for p in im.getdata()]\n",
    "pixel_grid = np.array(pixel_list).reshape(im_width, im_height)\n",
    "bits_to_byte = lambda bits: int(\"\".join(map(str, bits)), 2)"
   ]
  },
  {
   "cell_type": "code",
   "execution_count": 25,
   "id": "089b98fa",
   "metadata": {},
   "outputs": [],
   "source": [
    "output = []\n",
    "for row in range(grid_height):\n",
    "    for col in range(grid_width):\n",
    "        x_start = 1 + row + row*8\n",
    "        y_start = 1 + col + col*8\n",
    "        char_data = pixel_grid[x_start:x_start+8, y_start:y_start+8]\n",
    "\n",
    "        hex_string = \",\".join([hex(bits_to_byte(byte)) for byte in char_data.T])\n",
    "        output.append(hex_string)"
   ]
  },
  {
   "cell_type": "code",
   "execution_count": 27,
   "id": "52514e03",
   "metadata": {},
   "outputs": [
    {
     "data": {
      "text/plain": [
       "[array([0, 0, 0, 1, 1, 1, 1, 1]),\n",
       " array([0, 0, 1, 1, 1, 1, 1, 1]),\n",
       " array([0, 1, 1, 0, 0, 1, 0, 0]),\n",
       " array([0, 1, 1, 0, 0, 1, 0, 0]),\n",
       " array([0, 0, 1, 1, 1, 1, 1, 1]),\n",
       " array([0, 0, 0, 1, 1, 1, 1, 1]),\n",
       " array([0, 0, 0, 0, 0, 0, 0, 0]),\n",
       " array([0, 0, 0, 0, 0, 0, 0, 0])]"
      ]
     },
     "execution_count": 27,
     "metadata": {},
     "output_type": "execute_result"
    }
   ],
   "source": [
    "row = 4\n",
    "col = 1\n",
    "x_start = 1 + row + row*8\n",
    "y_start = 1 + col + col*8\n",
    "char_data = pixel_grid[x_start:x_start+8, y_start:y_start+8]\n",
    "d = [np.roll(i, 1) for i in char_data.T]\n",
    "d"
   ]
  },
  {
   "cell_type": "code",
   "execution_count": null,
   "id": "2038b8cb",
   "metadata": {},
   "outputs": [],
   "source": []
  }
 ],
 "metadata": {
  "kernelspec": {
   "display_name": "Python 3 (ipykernel)",
   "language": "python",
   "name": "python3"
  },
  "language_info": {
   "codemirror_mode": {
    "name": "ipython",
    "version": 3
   },
   "file_extension": ".py",
   "mimetype": "text/x-python",
   "name": "python",
   "nbconvert_exporter": "python",
   "pygments_lexer": "ipython3",
   "version": "3.9.10"
  }
 },
 "nbformat": 4,
 "nbformat_minor": 5
}
